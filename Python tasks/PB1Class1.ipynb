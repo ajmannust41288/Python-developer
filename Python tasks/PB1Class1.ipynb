{
  "nbformat": 4,
  "nbformat_minor": 0,
  "metadata": {
    "colab": {
      "name": "PB1Class1.ipynb",
      "provenance": [],
      "collapsed_sections": []
    },
    "kernelspec": {
      "name": "python3",
      "display_name": "Python 3"
    }
  },
  "cells": [
    {
      "cell_type": "code",
      "metadata": {
        "id": "Amd2TALKme-X"
      },
      "source": [
        "import numpy as np"
      ],
      "execution_count": null,
      "outputs": []
    },
    {
      "cell_type": "code",
      "metadata": {
        "colab": {
          "base_uri": "https://localhost:8080/"
        },
        "id": "4YATKdWLnbcy",
        "outputId": "76619f48-08df-4888-d3ba-7c756edc4cb7"
      },
      "source": [
        "name = input(\"Please enter your good name: \")\r\n",
        "print(\"Hello \" + name)"
      ],
      "execution_count": null,
      "outputs": [
        {
          "output_type": "stream",
          "text": [
            "Please enter your good name: test\n",
            "Hello test\n"
          ],
          "name": "stdout"
        }
      ]
    },
    {
      "cell_type": "code",
      "metadata": {
        "colab": {
          "base_uri": "https://localhost:8080/"
        },
        "id": "fI0UkVqbnfnZ",
        "outputId": "c2bf89d4-fa1e-4d0f-ba1e-b6793537f6af"
      },
      "source": [
        "num = input(\"Please enter some number: \")\r\n",
        "\r\n",
        "if (num == 5):\r\n",
        "  print(\"It is five\")\r\n",
        "else:\r\n",
        "  print(\"Other than five and actually it is a value \" + num)  "
      ],
      "execution_count": null,
      "outputs": [
        {
          "output_type": "stream",
          "text": [
            "Please enter some number: 89\n",
            "Other than five and actually it is a value 89\n"
          ],
          "name": "stdout"
        }
      ]
    },
    {
      "cell_type": "code",
      "metadata": {
        "colab": {
          "base_uri": "https://localhost:8080/"
        },
        "id": "kIpZaJR0xME1",
        "outputId": "a1b28818-8625-4baf-a4be-b5b9511cbdff"
      },
      "source": [
        "input = 2\r\n",
        "\r\n",
        "score = input ** 3\r\n",
        "\r\n",
        "print(input, score)"
      ],
      "execution_count": null,
      "outputs": [
        {
          "output_type": "stream",
          "text": [
            "2 8\n"
          ],
          "name": "stdout"
        }
      ]
    },
    {
      "cell_type": "code",
      "metadata": {
        "colab": {
          "base_uri": "https://localhost:8080/"
        },
        "id": "jFUxwWXByyt3",
        "outputId": "040f4753-a869-4310-a1e8-6c7f435d46e6"
      },
      "source": [
        "price = 8.00\r\n",
        "\r\n",
        "tax = price * (10/100)\r\n",
        "\r\n",
        "print(price, tax, (price+tax))"
      ],
      "execution_count": null,
      "outputs": [
        {
          "output_type": "stream",
          "text": [
            "8.0 0.8 8.8\n"
          ],
          "name": "stdout"
        }
      ]
    },
    {
      "cell_type": "code",
      "metadata": {
        "colab": {
          "base_uri": "https://localhost:8080/"
        },
        "id": "FLbvhUjjzq_z",
        "outputId": "40c277c1-1410-4f8a-ccb0-37d269df1e2a"
      },
      "source": [
        "happy = \"Happy Birthday to You \"\r\n",
        "name = \"Khan \"\r\n",
        "song = happy + happy + \"happy birthday dear \" + name + happy\r\n",
        "\r\n",
        "print(song)"
      ],
      "execution_count": null,
      "outputs": [
        {
          "output_type": "stream",
          "text": [
            "Happy Birthday to You Happy Birthday to You happy birthday dear Khan Happy Birthday to You \n"
          ],
          "name": "stdout"
        }
      ]
    },
    {
      "cell_type": "code",
      "metadata": {
        "colab": {
          "base_uri": "https://localhost:8080/"
        },
        "id": "WZWoU2Vr0UlZ",
        "outputId": "9d46203d-90d6-4aa1-d89f-db0f1d3c8524"
      },
      "source": [
        "age = 25\r\n",
        "print(\"Your age is \" + str(age))"
      ],
      "execution_count": null,
      "outputs": [
        {
          "output_type": "stream",
          "text": [
            "Your age is 25\n"
          ],
          "name": "stdout"
        }
      ]
    },
    {
      "cell_type": "code",
      "metadata": {
        "colab": {
          "base_uri": "https://localhost:8080/"
        },
        "id": "oPaOcVAq1HJ3",
        "outputId": "bc0a6d7b-9e22-4e79-8ca7-4f700fee5376"
      },
      "source": [
        "len(song)"
      ],
      "execution_count": null,
      "outputs": [
        {
          "output_type": "execute_result",
          "data": {
            "text/plain": [
              "91"
            ]
          },
          "metadata": {
            "tags": []
          },
          "execution_count": 8
        }
      ]
    },
    {
      "cell_type": "code",
      "metadata": {
        "colab": {
          "base_uri": "https://localhost:8080/"
        },
        "id": "s8mKc5ql1X7S",
        "outputId": "b8a6023f-173b-44d8-ebbd-1fd19019598a"
      },
      "source": [
        "my_list = [1, 2 ,3, 7, \"Hasan\", 3.14, True]\r\n",
        "\r\n",
        "my_list.append(\"adil\")\r\n",
        "\r\n",
        "print(my_list)"
      ],
      "execution_count": null,
      "outputs": [
        {
          "output_type": "stream",
          "text": [
            "[1, 2, 3, 7, 'Hasan', 3.14, True, 'adil']\n"
          ],
          "name": "stdout"
        }
      ]
    },
    {
      "cell_type": "code",
      "metadata": {
        "colab": {
          "base_uri": "https://localhost:8080/"
        },
        "id": "89LeKD_Y2fdD",
        "outputId": "6c93593b-314d-49c9-8cb3-4bd2ca70f1e8"
      },
      "source": [
        "oranges = 5\r\n",
        "apples = 7\r\n",
        "\r\n",
        "not(oranges > 6)"
      ],
      "execution_count": null,
      "outputs": [
        {
          "output_type": "execute_result",
          "data": {
            "text/plain": [
              "True"
            ]
          },
          "metadata": {
            "tags": []
          },
          "execution_count": 10
        }
      ]
    },
    {
      "cell_type": "code",
      "metadata": {
        "colab": {
          "base_uri": "https://localhost:8080/"
        },
        "id": "MHC3rv3646_z",
        "outputId": "296b03e3-04e1-4a12-f147-0419d540c105"
      },
      "source": [
        "quiz_score = int(input(\"Please enter your quiz score: \"))\r\n",
        "\r\n",
        "if quiz_score >= 8:\r\n",
        "  print(\"You're a quiz champion!\")\r\n",
        "elif quiz_score >= 5:\r\n",
        "  print(\"Could do better!\")\r\n",
        "elif quiz_score >= 2:\r\n",
        "  print(\"Poor soul!\")  \r\n",
        "else:\r\n",
        "  print(\"Were you actually awake?\")"
      ],
      "execution_count": null,
      "outputs": [
        {
          "output_type": "stream",
          "text": [
            "Please enter your quiz score: 1\n",
            "Were you actually awake?\n"
          ],
          "name": "stdout"
        }
      ]
    },
    {
      "cell_type": "code",
      "metadata": {
        "colab": {
          "base_uri": "https://localhost:8080/"
        },
        "id": "UaeRLilf8hRD",
        "outputId": "09f20ee6-5e15-44f9-ed7c-1c02d2cfa70e"
      },
      "source": [
        "quiz_score = int(input(\"Please enter your exam score: \"))\r\n",
        "\r\n",
        "if quiz_score >= 88:\r\n",
        "  print(\"Your Grade is A\")\r\n",
        "elif quiz_score >= 80:\r\n",
        "  print(\"Your Grade is B+\")\r\n",
        "elif quiz_score >= 74:\r\n",
        "  print(\"Your Grade is B\")\r\n",
        "elif quiz_score >= 68:\r\n",
        "  print(\"Your Grade is C+\")\r\n",
        "elif quiz_score >= 60:\r\n",
        "  print(\"Your Grade is C\")\r\n",
        "else:\r\n",
        "  print(\"Your Grade is F. Better luck next time.\")"
      ],
      "execution_count": null,
      "outputs": [
        {
          "output_type": "stream",
          "text": [
            "Please enter your exam score: 82\n",
            "Your Grade is B+\n"
          ],
          "name": "stdout"
        }
      ]
    },
    {
      "cell_type": "code",
      "metadata": {
        "colab": {
          "base_uri": "https://localhost:8080/"
        },
        "id": "I6CXTL3x-Bux",
        "outputId": "67b4e433-177f-4c0c-bf9a-16ce899e7562"
      },
      "source": [
        "for counter in range(1, 10):\r\n",
        "  print(counter, \"I am really very sorry\")"
      ],
      "execution_count": null,
      "outputs": [
        {
          "output_type": "stream",
          "text": [
            "1 I am really very sorry\n",
            "2 I am really very sorry\n",
            "3 I am really very sorry\n",
            "4 I am really very sorry\n",
            "5 I am really very sorry\n",
            "6 I am really very sorry\n",
            "7 I am really very sorry\n",
            "8 I am really very sorry\n",
            "9 I am really very sorry\n"
          ],
          "name": "stdout"
        }
      ]
    },
    {
      "cell_type": "code",
      "metadata": {
        "id": "4zrTsBu1j85-"
      },
      "source": [
        "with open(\"/content/drive/MyDrive/Colab Notebooks/Data/fifa.csv\", \"r\") as file1:\r\n",
        "    FileContent = file1.read()\r\n",
        "    #print(FileContent)"
      ],
      "execution_count": null,
      "outputs": []
    },
    {
      "cell_type": "code",
      "metadata": {
        "id": "ZnlxSBSAmW3w"
      },
      "source": [
        "import pandas as pd"
      ],
      "execution_count": null,
      "outputs": []
    },
    {
      "cell_type": "code",
      "metadata": {
        "colab": {
          "base_uri": "https://localhost:8080/",
          "height": 635
        },
        "id": "sNNRUC8Oma7I",
        "outputId": "6002f39d-21c3-48eb-9637-6deddb702c2f"
      },
      "source": [
        "pd.read_csv(\"/content/drive/MyDrive/Colab Notebooks/Data/fifa.csv\")"
      ],
      "execution_count": null,
      "outputs": [
        {
          "output_type": "execute_result",
          "data": {
            "text/html": [
              "<div>\n",
              "<style scoped>\n",
              "    .dataframe tbody tr th:only-of-type {\n",
              "        vertical-align: middle;\n",
              "    }\n",
              "\n",
              "    .dataframe tbody tr th {\n",
              "        vertical-align: top;\n",
              "    }\n",
              "\n",
              "    .dataframe thead th {\n",
              "        text-align: right;\n",
              "    }\n",
              "</style>\n",
              "<table border=\"1\" class=\"dataframe\">\n",
              "  <thead>\n",
              "    <tr style=\"text-align: right;\">\n",
              "      <th></th>\n",
              "      <th>id</th>\n",
              "      <th>name</th>\n",
              "      <th>rating</th>\n",
              "      <th>position</th>\n",
              "      <th>height</th>\n",
              "      <th>foot</th>\n",
              "      <th>rare</th>\n",
              "      <th>pace</th>\n",
              "      <th>shooting</th>\n",
              "      <th>passing</th>\n",
              "      <th>dribbling</th>\n",
              "      <th>defending</th>\n",
              "      <th>heading</th>\n",
              "      <th>diving</th>\n",
              "      <th>handling</th>\n",
              "      <th>kicking</th>\n",
              "      <th>reflexes</th>\n",
              "      <th>speed</th>\n",
              "      <th>positioning</th>\n",
              "    </tr>\n",
              "  </thead>\n",
              "  <tbody>\n",
              "    <tr>\n",
              "      <th>0</th>\n",
              "      <td>1001</td>\n",
              "      <td>Gábor Király</td>\n",
              "      <td>69</td>\n",
              "      <td>GK</td>\n",
              "      <td>191</td>\n",
              "      <td>Right</td>\n",
              "      <td>0</td>\n",
              "      <td></td>\n",
              "      <td></td>\n",
              "      <td></td>\n",
              "      <td></td>\n",
              "      <td></td>\n",
              "      <td></td>\n",
              "      <td>70</td>\n",
              "      <td>66</td>\n",
              "      <td>63</td>\n",
              "      <td>74</td>\n",
              "      <td>35</td>\n",
              "      <td>66.0</td>\n",
              "    </tr>\n",
              "    <tr>\n",
              "      <th>1</th>\n",
              "      <td>100143</td>\n",
              "      <td>Frederik Boi</td>\n",
              "      <td>65</td>\n",
              "      <td>M</td>\n",
              "      <td>184</td>\n",
              "      <td>Right</td>\n",
              "      <td>0</td>\n",
              "      <td>61</td>\n",
              "      <td>65</td>\n",
              "      <td>63</td>\n",
              "      <td>59</td>\n",
              "      <td>62</td>\n",
              "      <td>62</td>\n",
              "      <td></td>\n",
              "      <td></td>\n",
              "      <td></td>\n",
              "      <td></td>\n",
              "      <td></td>\n",
              "      <td>NaN</td>\n",
              "    </tr>\n",
              "    <tr>\n",
              "      <th>2</th>\n",
              "      <td>100264</td>\n",
              "      <td>Tomasz Szewczuk</td>\n",
              "      <td>57</td>\n",
              "      <td>A</td>\n",
              "      <td>185</td>\n",
              "      <td>Right</td>\n",
              "      <td>0</td>\n",
              "      <td>65</td>\n",
              "      <td>54</td>\n",
              "      <td>43</td>\n",
              "      <td>53</td>\n",
              "      <td>55</td>\n",
              "      <td>74</td>\n",
              "      <td></td>\n",
              "      <td></td>\n",
              "      <td></td>\n",
              "      <td></td>\n",
              "      <td></td>\n",
              "      <td>NaN</td>\n",
              "    </tr>\n",
              "    <tr>\n",
              "      <th>3</th>\n",
              "      <td>100325</td>\n",
              "      <td>Steeve Joseph-Reinette</td>\n",
              "      <td>63</td>\n",
              "      <td>D</td>\n",
              "      <td>180</td>\n",
              "      <td>Left</td>\n",
              "      <td>0</td>\n",
              "      <td>68</td>\n",
              "      <td>38</td>\n",
              "      <td>51</td>\n",
              "      <td>46</td>\n",
              "      <td>64</td>\n",
              "      <td>71</td>\n",
              "      <td></td>\n",
              "      <td></td>\n",
              "      <td></td>\n",
              "      <td></td>\n",
              "      <td></td>\n",
              "      <td>NaN</td>\n",
              "    </tr>\n",
              "    <tr>\n",
              "      <th>4</th>\n",
              "      <td>100326</td>\n",
              "      <td>Kamel Chafni</td>\n",
              "      <td>72</td>\n",
              "      <td>M</td>\n",
              "      <td>181</td>\n",
              "      <td>Right</td>\n",
              "      <td>0</td>\n",
              "      <td>75</td>\n",
              "      <td>64</td>\n",
              "      <td>67</td>\n",
              "      <td>72</td>\n",
              "      <td>57</td>\n",
              "      <td>66</td>\n",
              "      <td></td>\n",
              "      <td></td>\n",
              "      <td></td>\n",
              "      <td></td>\n",
              "      <td></td>\n",
              "      <td>NaN</td>\n",
              "    </tr>\n",
              "    <tr>\n",
              "      <th>...</th>\n",
              "      <td>...</td>\n",
              "      <td>...</td>\n",
              "      <td>...</td>\n",
              "      <td>...</td>\n",
              "      <td>...</td>\n",
              "      <td>...</td>\n",
              "      <td>...</td>\n",
              "      <td>...</td>\n",
              "      <td>...</td>\n",
              "      <td>...</td>\n",
              "      <td>...</td>\n",
              "      <td>...</td>\n",
              "      <td>...</td>\n",
              "      <td>...</td>\n",
              "      <td>...</td>\n",
              "      <td>...</td>\n",
              "      <td>...</td>\n",
              "      <td>...</td>\n",
              "      <td>...</td>\n",
              "    </tr>\n",
              "    <tr>\n",
              "      <th>8842</th>\n",
              "      <td>9801</td>\n",
              "      <td>Danijel Ljuboja</td>\n",
              "      <td>73</td>\n",
              "      <td>A</td>\n",
              "      <td>189</td>\n",
              "      <td>Left</td>\n",
              "      <td>1</td>\n",
              "      <td>62</td>\n",
              "      <td>73</td>\n",
              "      <td>64</td>\n",
              "      <td>74</td>\n",
              "      <td>56</td>\n",
              "      <td>68</td>\n",
              "      <td></td>\n",
              "      <td></td>\n",
              "      <td></td>\n",
              "      <td></td>\n",
              "      <td></td>\n",
              "      <td>NaN</td>\n",
              "    </tr>\n",
              "    <tr>\n",
              "      <th>8843</th>\n",
              "      <td>9805</td>\n",
              "      <td>Craig Bellamy</td>\n",
              "      <td>79</td>\n",
              "      <td>A</td>\n",
              "      <td>175</td>\n",
              "      <td>Right</td>\n",
              "      <td>0</td>\n",
              "      <td>80</td>\n",
              "      <td>78</td>\n",
              "      <td>67</td>\n",
              "      <td>81</td>\n",
              "      <td>62</td>\n",
              "      <td>71</td>\n",
              "      <td></td>\n",
              "      <td></td>\n",
              "      <td></td>\n",
              "      <td></td>\n",
              "      <td></td>\n",
              "      <td>NaN</td>\n",
              "    </tr>\n",
              "    <tr>\n",
              "      <th>8844</th>\n",
              "      <td>9807</td>\n",
              "      <td>Michel Breuer</td>\n",
              "      <td>68</td>\n",
              "      <td>D</td>\n",
              "      <td>183</td>\n",
              "      <td>Right</td>\n",
              "      <td>0</td>\n",
              "      <td>61</td>\n",
              "      <td>40</td>\n",
              "      <td>56</td>\n",
              "      <td>51</td>\n",
              "      <td>70</td>\n",
              "      <td>74</td>\n",
              "      <td></td>\n",
              "      <td></td>\n",
              "      <td></td>\n",
              "      <td></td>\n",
              "      <td></td>\n",
              "      <td>NaN</td>\n",
              "    </tr>\n",
              "    <tr>\n",
              "      <th>8845</th>\n",
              "      <td>9815</td>\n",
              "      <td>Gill Swerts</td>\n",
              "      <td>65</td>\n",
              "      <td>D</td>\n",
              "      <td>179</td>\n",
              "      <td>Right</td>\n",
              "      <td>0</td>\n",
              "      <td>65</td>\n",
              "      <td>48</td>\n",
              "      <td>63</td>\n",
              "      <td>65</td>\n",
              "      <td>67</td>\n",
              "      <td>69</td>\n",
              "      <td></td>\n",
              "      <td></td>\n",
              "      <td></td>\n",
              "      <td></td>\n",
              "      <td></td>\n",
              "      <td>NaN</td>\n",
              "    </tr>\n",
              "    <tr>\n",
              "      <th>8846</th>\n",
              "      <td>9913</td>\n",
              "      <td>Mehdi Nafti</td>\n",
              "      <td>69</td>\n",
              "      <td>M</td>\n",
              "      <td>179</td>\n",
              "      <td>Right</td>\n",
              "      <td>0</td>\n",
              "      <td>55</td>\n",
              "      <td>56</td>\n",
              "      <td>64</td>\n",
              "      <td>65</td>\n",
              "      <td>69</td>\n",
              "      <td>60</td>\n",
              "      <td></td>\n",
              "      <td></td>\n",
              "      <td></td>\n",
              "      <td></td>\n",
              "      <td></td>\n",
              "      <td>NaN</td>\n",
              "    </tr>\n",
              "  </tbody>\n",
              "</table>\n",
              "<p>8847 rows × 19 columns</p>\n",
              "</div>"
            ],
            "text/plain": [
              "          id                     name   rating  ...  reflexes   speed  positioning\n",
              "0       1001             Gábor Király       69  ...        74      35         66.0\n",
              "1     100143             Frederik Boi       65  ...                            NaN\n",
              "2     100264          Tomasz Szewczuk       57  ...                            NaN\n",
              "3     100325   Steeve Joseph-Reinette       63  ...                            NaN\n",
              "4     100326             Kamel Chafni       72  ...                            NaN\n",
              "...      ...                      ...      ...  ...       ...     ...          ...\n",
              "8842    9801          Danijel Ljuboja       73  ...                            NaN\n",
              "8843    9805            Craig Bellamy       79  ...                            NaN\n",
              "8844    9807            Michel Breuer       68  ...                            NaN\n",
              "8845    9815              Gill Swerts       65  ...                            NaN\n",
              "8846    9913              Mehdi Nafti       69  ...                            NaN\n",
              "\n",
              "[8847 rows x 19 columns]"
            ]
          },
          "metadata": {
            "tags": []
          },
          "execution_count": 12
        }
      ]
    }
  ]
}